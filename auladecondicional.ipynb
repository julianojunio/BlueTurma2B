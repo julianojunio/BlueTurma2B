{
  "nbformat": 4,
  "nbformat_minor": 0,
  "metadata": {
    "colab": {
      "name": "auladecondicional.ipynb",
      "provenance": [],
      "authorship_tag": "ABX9TyPeA5vXhzePWtp/CGp/SMyL",
      "include_colab_link": true
    },
    "kernelspec": {
      "name": "python3",
      "display_name": "Python 3"
    },
    "language_info": {
      "name": "python"
    }
  },
  "cells": [
    {
      "cell_type": "markdown",
      "metadata": {
        "id": "view-in-github",
        "colab_type": "text"
      },
      "source": [
        "<a href=\"https://colab.research.google.com/github/julianojunio/BlueTurma2B/blob/main/auladecondicional.ipynb\" target=\"_parent\"><img src=\"https://colab.research.google.com/assets/colab-badge.svg\" alt=\"Open In Colab\"/></a>"
      ]
    },
    {
      "cell_type": "code",
      "metadata": {
        "colab": {
          "base_uri": "https://localhost:8080/"
        },
        "id": "oVz1iE5q0IYp",
        "outputId": "c773dd28-fb35-46d3-aa12-39cfdeaea1cb"
      },
      "source": [
        "# Exercício 1\n",
        "n1 = int(input('Digite o primeiro número: '))\n",
        "n2 = int(input('Digite o segundo número: '))\n",
        "n3 = int(input('Digite o terceiro  número: '))\n",
        "maiorNumero = n1\n",
        "menorNumero = n1\n",
        "if n2 > maiorNumero:\n",
        "  maiorNumero = n2\n",
        "if n3 > maiorNumero:\n",
        "  maiorNumero = n3\n",
        "if n2 < menorNumero:\n",
        "  menorNumero = n2\n",
        "if n3 < menorNumero:\n",
        "  menorNumero = n3\n",
        "print(f'O Moir é {maiorNumero } e O Menor é {menorNumero}')\n",
        "print('o maior é {} e o menor é {}'.format(maiorNumero,menorNumero))"
      ],
      "execution_count": 13,
      "outputs": [
        {
          "output_type": "stream",
          "text": [
            "Digite o primeiro número: 50\n",
            "Digite o segundo número: 5\n",
            "Digite o terceiro  número: 7\n",
            "O Moir é 50 e O Menor é 5\n",
            "o maior é 50 e o menor é 5\n"
          ],
          "name": "stdout"
        }
      ]
    },
    {
      "cell_type": "code",
      "metadata": {
        "id": "Ix1u0EmLJz1N"
      },
      "source": [
        "# Exercício 2"
      ],
      "execution_count": null,
      "outputs": []
    },
    {
      "cell_type": "code",
      "metadata": {
        "colab": {
          "base_uri": "https://localhost:8080/"
        },
        "id": "DHqfy_y-NKZQ",
        "outputId": "49dffc08-62eb-46e8-d25d-acfe4684a4bb"
      },
      "source": [
        "n1 = int(input(\"Digite o Primeiro Número\"))\n",
        "n2 = int(input(\"Digite o Segundo Número\"))\n",
        "if n1 > n2:\n",
        "  print('o maior é {}'.format(n1))\n",
        "elif n1 < n2:\n",
        "  print('o maior é {}'.format(n2))"
      ],
      "execution_count": 14,
      "outputs": [
        {
          "output_type": "stream",
          "text": [
            "Digite o Primeiro Número20\n",
            "Digite o Segundo Número19\n",
            "o maior é 20\n"
          ],
          "name": "stdout"
        }
      ]
    },
    {
      "cell_type": "code",
      "metadata": {
        "colab": {
          "base_uri": "https://localhost:8080/"
        },
        "id": "slBNC3FNPG1M",
        "outputId": "3cf3b4ef-3d46-46de-ddb7-e48b92b3fda0"
      },
      "source": [
        "# Exercício 3\n",
        "n = int(input(\"Digite um valor:\"))\n",
        "if n < 0:\n",
        "   print(\"O valor digitado é negativo!\")\n",
        "else:\n",
        "  print(\"O valor digitado é positivo!\")"
      ],
      "execution_count": 19,
      "outputs": [
        {
          "output_type": "stream",
          "text": [
            "Digite um valor:-3\n",
            "O valor digitado é negativo!\n"
          ],
          "name": "stdout"
        }
      ]
    },
    {
      "cell_type": "code",
      "metadata": {
        "colab": {
          "base_uri": "https://localhost:8080/"
        },
        "id": "di9_58PVT2SR",
        "outputId": "c5cc18ea-3a20-4472-c8b6-3b1e7c0f1013"
      },
      "source": [
        "# Exercício 4\n",
        "sexo=input('Digite o sexo (M) ou (): ').upper()\n",
        "\n",
        "if sexo == 'M':\n",
        "    print('Masculina')\n",
        "elif sexo == 'F':\n",
        "  print('Sexo Masculino')\n",
        "else:\n",
        "  print('Você não digitou M (Masculino) ou F(Feminino) ')"
      ],
      "execution_count": 20,
      "outputs": [
        {
          "output_type": "stream",
          "text": [
            "Digite o sexo (M) ou (): f\n",
            "Sexo Masculino\n"
          ],
          "name": "stdout"
        }
      ]
    },
    {
      "cell_type": "code",
      "metadata": {
        "colab": {
          "base_uri": "https://localhost:8080/"
        },
        "id": "SUP6oASJbWVM",
        "outputId": "e846a374-e85e-47fd-af25-954da9bab50d"
      },
      "source": [
        "# Exercício 5\n",
        "nota = float(input('Digite a nota do aluno: '))\n",
        "\n",
        "if nota < 6 :\n",
        "  print('F')\n",
        "elif nota <= 7:\n",
        "  print('D')\n",
        "elif 7 <= nota <= 8:\n",
        "  print('C')\n",
        "elif 8 <= nota <= 9:\n",
        "  print('B')\n",
        "elif 9 <= nota <= 10:\n",
        "  print('A')\n",
        "else:\n",
        "  print('Nota inválida')"
      ],
      "execution_count": 21,
      "outputs": [
        {
          "output_type": "stream",
          "text": [
            "Digite a nota do aluno: 2\n",
            "F\n"
          ],
          "name": "stdout"
        }
      ]
    },
    {
      "cell_type": "code",
      "metadata": {
        "id": "cnHVDQtncidw"
      },
      "source": [
        "# Exercício 6\n",
        "l = str(input('Digite uma letra: ').lower())\n",
        "if l == 'a' or l == 'e' or l == 'i' or l == 'o' or l == 'u':\n",
        "    print('A letra',l,'é vogal')\n",
        "else:\n",
        "    print('A letra',l,'é consoante')"
      ],
      "execution_count": null,
      "outputs": []
    }
  ]
}