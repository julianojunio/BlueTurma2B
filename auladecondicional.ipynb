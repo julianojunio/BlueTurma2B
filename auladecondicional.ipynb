{
  "nbformat": 4,
  "nbformat_minor": 0,
  "metadata": {
    "colab": {
      "name": "auladecondicional.ipynb",
      "provenance": [],
      "collapsed_sections": [],
      "authorship_tag": "ABX9TyNSaM3IkLK44ypO1B6EG+DW",
      "include_colab_link": true
    },
    "kernelspec": {
      "name": "python3",
      "display_name": "Python 3"
    },
    "language_info": {
      "name": "python"
    }
  },
  "cells": [
    {
      "cell_type": "markdown",
      "metadata": {
        "id": "view-in-github",
        "colab_type": "text"
      },
      "source": [
        "<a href=\"https://colab.research.google.com/github/julianojunio/BlueTurma2B/blob/main/auladecondicional.ipynb\" target=\"_parent\"><img src=\"https://colab.research.google.com/assets/colab-badge.svg\" alt=\"Open In Colab\"/></a>"
      ]
    },
    {
      "cell_type": "code",
      "metadata": {
        "colab": {
          "base_uri": "https://localhost:8080/"
        },
        "id": "oVz1iE5q0IYp",
        "outputId": "c773dd28-fb35-46d3-aa12-39cfdeaea1cb"
      },
      "source": [
        "# Exercício 1\n",
        "n1 = int(input('Digite o primeiro número: '))\n",
        "n2 = int(input('Digite o segundo número: '))\n",
        "n3 = int(input('Digite o terceiro  número: '))\n",
        "maiorNumero = n1\n",
        "menorNumero = n1\n",
        "if n2 > maiorNumero:\n",
        "  maiorNumero = n2\n",
        "if n3 > maiorNumero:\n",
        "  maiorNumero = n3\n",
        "if n2 < menorNumero:\n",
        "  menorNumero = n2\n",
        "if n3 < menorNumero:\n",
        "  menorNumero = n3\n",
        "print(f'O Moir é {maiorNumero } e O Menor é {menorNumero}')\n",
        "print('o maior é {} e o menor é {}'.format(maiorNumero,menorNumero))"
      ],
      "execution_count": null,
      "outputs": [
        {
          "output_type": "stream",
          "text": [
            "Digite o primeiro número: 50\n",
            "Digite o segundo número: 5\n",
            "Digite o terceiro  número: 7\n",
            "O Moir é 50 e O Menor é 5\n",
            "o maior é 50 e o menor é 5\n"
          ],
          "name": "stdout"
        }
      ]
    },
    {
      "cell_type": "code",
      "metadata": {
        "id": "Ix1u0EmLJz1N"
      },
      "source": [
        "# Exercício 2"
      ],
      "execution_count": null,
      "outputs": []
    },
    {
      "cell_type": "code",
      "metadata": {
        "colab": {
          "base_uri": "https://localhost:8080/"
        },
        "id": "DHqfy_y-NKZQ",
        "outputId": "49dffc08-62eb-46e8-d25d-acfe4684a4bb"
      },
      "source": [
        "n1 = int(input(\"Digite o Primeiro Número\"))\n",
        "n2 = int(input(\"Digite o Segundo Número\"))\n",
        "if n1 > n2:\n",
        "  print('o maior é {}'.format(n1))\n",
        "elif n1 < n2:\n",
        "  print('o maior é {}'.format(n2))"
      ],
      "execution_count": null,
      "outputs": [
        {
          "output_type": "stream",
          "text": [
            "Digite o Primeiro Número20\n",
            "Digite o Segundo Número19\n",
            "o maior é 20\n"
          ],
          "name": "stdout"
        }
      ]
    },
    {
      "cell_type": "code",
      "metadata": {
        "colab": {
          "base_uri": "https://localhost:8080/"
        },
        "id": "slBNC3FNPG1M",
        "outputId": "3cf3b4ef-3d46-46de-ddb7-e48b92b3fda0"
      },
      "source": [
        "# Exercício 3\n",
        "n = int(input(\"Digite um valor:\"))\n",
        "if n < 0:\n",
        "   print(\"O valor digitado é negativo!\")\n",
        "else:\n",
        "  print(\"O valor digitado é positivo!\")"
      ],
      "execution_count": null,
      "outputs": [
        {
          "output_type": "stream",
          "text": [
            "Digite um valor:-3\n",
            "O valor digitado é negativo!\n"
          ],
          "name": "stdout"
        }
      ]
    },
    {
      "cell_type": "code",
      "metadata": {
        "colab": {
          "base_uri": "https://localhost:8080/"
        },
        "id": "di9_58PVT2SR",
        "outputId": "c5cc18ea-3a20-4472-c8b6-3b1e7c0f1013"
      },
      "source": [
        "# Exercício 4\n",
        "sexo=input('Digite o sexo (M) ou (): ').upper()\n",
        "\n",
        "if sexo == 'M':\n",
        "    print('Masculina')\n",
        "elif sexo == 'F':\n",
        "  print('Sexo Masculino')\n",
        "else:\n",
        "  print('Você não digitou M (Masculino) ou F(Feminino) ')"
      ],
      "execution_count": null,
      "outputs": [
        {
          "output_type": "stream",
          "text": [
            "Digite o sexo (M) ou (): f\n",
            "Sexo Masculino\n"
          ],
          "name": "stdout"
        }
      ]
    },
    {
      "cell_type": "code",
      "metadata": {
        "colab": {
          "base_uri": "https://localhost:8080/"
        },
        "id": "SUP6oASJbWVM",
        "outputId": "e846a374-e85e-47fd-af25-954da9bab50d"
      },
      "source": [
        "# Exercício 5\n",
        "nota = float(input('Digite a nota do aluno: '))\n",
        "\n",
        "if nota < 6 :\n",
        "  print('F')\n",
        "elif nota <= 7:\n",
        "  print('D')\n",
        "elif 7 <= nota <= 8:\n",
        "  print('C')\n",
        "elif 8 <= nota <= 9:\n",
        "  print('B')\n",
        "elif 9 <= nota <= 10:\n",
        "  print('A')\n",
        "else:\n",
        "  print('Nota inválida')"
      ],
      "execution_count": null,
      "outputs": [
        {
          "output_type": "stream",
          "text": [
            "Digite a nota do aluno: 2\n",
            "F\n"
          ],
          "name": "stdout"
        }
      ]
    },
    {
      "cell_type": "code",
      "metadata": {
        "id": "cnHVDQtncidw"
      },
      "source": [
        "# Exercício 6\n",
        "l = str(input('Digite uma letra: ').lower())\n",
        "if l == 'a' or l == 'e' or l == 'i' or l == 'o' or l == 'u':\n",
        "    print('A letra',l,'é vogal')\n",
        "else:\n",
        "    print('A letra',l,'é consoante')"
      ],
      "execution_count": null,
      "outputs": []
    },
    {
      "cell_type": "code",
      "metadata": {
        "colab": {
          "base_uri": "https://localhost:8080/"
        },
        "id": "I-tyPE4gRF84",
        "outputId": "c463f629-8bb8-437c-f04f-76dade81a941"
      },
      "source": [
        "# Projeto 1\n",
        "\"\"\"\n",
        "•\tEscreva um programa que receba uma string digitada pelo usuário;\n",
        "•\tCaso a string seja \"medieval\", exiba no console \"espada\";\n",
        "•\tCaso contrário, se a string for \"futurista\", exiba no console \"sabre de luz\";\n",
        "•\tCaso contrário, exiba no console \"Tente novamente\"\n",
        "\"\"\"\n",
        "\n",
        "string = str(input('Digite uma palavra '))\n",
        "if string == 'medieval':\n",
        "  print('espada')\n",
        "elif string == 'futurista':\n",
        "  print('sabre de luz')\n",
        "else:\n",
        "  print('Tente novamente')"
      ],
      "execution_count": null,
      "outputs": [
        {
          "output_type": "stream",
          "text": [
            "Digite uma palavra futurista\n",
            "sabre de luz\n"
          ],
          "name": "stdout"
        }
      ]
    },
    {
      "cell_type": "code",
      "metadata": {
        "colab": {
          "base_uri": "https://localhost:8080/"
        },
        "id": "Rj-kvnDFUiwa",
        "outputId": "96b4a77c-825c-4ae2-f5fa-b4faec5886c5"
      },
      "source": [
        "# Continuação do PROJETO 1\n",
        "#\tEscreva um programa que receba um ataque de espada ou sabre digitada pelo usuário;\n",
        "#\tCaso o ataque seja \"espada\", exiba no console \"VOCÊ AINDA NÃO MATOU O CHEFÃO\";\n",
        "#\tCaso contrário, se o ataque for \"sabre\", exiba no console \"VOCÊ DERROTOU O CHEFÃO COM O SABRE DE LUZ\";\n",
        "#\tCaso contrário, exiba no console \"ATAQUE NOVAMENTE\"\n",
        "\n",
        "\n",
        "ataque = str(input('Escolha uma opção: [espada], [sabre], [fuzil 762], [pistola 380] '))\n",
        "if ataque == 'espada':\n",
        "  print(\"VOCÊ AINDA NÃO MATOU O CHEFÃO\")\n",
        "elif ataque == 'sabre':\n",
        "  print('VOCÊ DERROTOU O CHEFÃO COM O SABRE DE LUZ')\n",
        "else:\n",
        "  print('ATAQUE NOVAMENTE')"
      ],
      "execution_count": null,
      "outputs": [
        {
          "output_type": "stream",
          "text": [
            "Escolha uma opção: [espada], [sabre], [fuzil 762], [pistola 380] sabre\n",
            "VOCÊ DERROTOU O CHEFÃO COM O SABRE DE LUZ\n"
          ],
          "name": "stdout"
        }
      ]
    },
    {
      "cell_type": "code",
      "metadata": {
        "id": "hpKE_kusYNwP",
        "colab": {
          "base_uri": "https://localhost:8080/"
        },
        "outputId": "43d6e3aa-4b89-4dd5-ade7-3e26cfdbfc96"
      },
      "source": [
        "# Projeto 2\n",
        "# Faça um programa que recebe o salário de um colaborador \n",
        "# e o reajuste segundo o seguinte critério, baseado no salário atual:\n",
        "salario = float(input(\"Digite o valor do colaborador \"))\n",
        "if salario <= 280.00:\n",
        "  vlreajust1 = salario * 1.20\n",
        "  soma1 = vlreajust1 - salario\n",
        "  print(f'Salario atual é de: R$ {salario:.2f}\\nReajuste de: 20%\\nUm aumento de: R${soma1:.2f}\\nNovo salario é de: R$ {vlreajust1:.2f}')\n",
        "\n",
        "elif salario >= 280.00 and salario <= 700.00:\n",
        "  vlreajust2 = salario * 1.15\n",
        "  soma2 = vlreajust2 - salario\n",
        "  print(f'Salario atual é de: R$ {salario:.2f}\\nReajuste de: 15%\\nUm aumento de: R$ {soma2:.2f}\\nNovo salario é de: R$ {vlreajust2:.2f}')\n",
        "\n",
        "elif salario >= 700.00 and salario <= 1500.00:\n",
        "  vlreajust3 = salario * 1.10\n",
        "  soma3 = vlreajust3 - salario\n",
        "  print(f'Salario atual é de: R$ {salario:.2f}\\nReajuste de: 10%\\nUm aumento de: R$ {soma3:.2f}\\nNovo salario é de: R$ {vlreajust3:.2f}')\n",
        "\n",
        "elif salario > 1500.00:\n",
        "  vlreajust4 = salario * 1.05\n",
        "  soma4 = vlreajust4 - salario\n",
        "  print(f'Salario atual é de: R$ {salario:.2f}\\nReajuste de: 5%\\nUm aumento de: R$ {soma4:.2f}\\nNovo salario é de: R$ {vlreajust4:.2f}')"
      ],
      "execution_count": 20,
      "outputs": [
        {
          "output_type": "stream",
          "text": [
            "Digite o valor do colaborador 1508\n",
            "Salario atual é de: R$ 1508.00\n",
            "Reajuste de: 5%\n",
            "Um aumento de: R$ 75.40\n",
            "Novo salario é de: R$ 1583.40\n"
          ],
          "name": "stdout"
        }
      ]
    },
    {
      "cell_type": "code",
      "metadata": {
        "colab": {
          "base_uri": "https://localhost:8080/"
        },
        "id": "boVen_wOj7Md",
        "outputId": "de914ffa-53b9-4bda-dbde-c8e8a55ff8d7"
      },
      "source": [
        "# Projeto 3\n",
        "saque = int(input(\"Valor mínimo do saque: R$10,00.\\nValor máximo do saque: R$600,00\\nValor do saque: R$\"))\n",
        "\n",
        "if(saque>=10) and (saque<=600):\n",
        "  resto1 = saque % 100\n",
        "  resto2 = resto1 % 50\n",
        "  resto3 = resto2 % 10\n",
        "  resto4 = resto3 % 5\n",
        "  nota100,nota50,nota10,nota5,nota1 = saque//100,resto1//50,resto2//10,resto3//5,resto4//1\n",
        "print(\"R$100,00:\",nota100)\n",
        "print(\"R50,00:\", nota50)\n",
        "print(\"R$10,00:\", nota10)\n",
        "print(\"R$5,00:\", nota5)\n",
        "print(\"R$1,00:\", nota1)"
      ],
      "execution_count": 21,
      "outputs": [
        {
          "output_type": "stream",
          "text": [
            "Valor mínimo do saque: R$10,00.\n",
            "Valor máximo do saque: R$600,00\n",
            "Valor do saque: R$399\n",
            "R$100,00: 3\n",
            "R50,00: 1\n",
            "R$10,00: 4\n",
            "R$5,00: 1\n",
            "R$1,00: 4\n"
          ],
          "name": "stdout"
        }
      ]
    }
  ]
}