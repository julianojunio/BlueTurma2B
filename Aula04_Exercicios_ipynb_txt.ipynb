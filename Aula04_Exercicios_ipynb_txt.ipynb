{
  "nbformat": 4,
  "nbformat_minor": 0,
  "metadata": {
    "colab": {
      "name": "Aula04_Exercicios.ipynb.txt",
      "provenance": [],
      "collapsed_sections": [],
      "include_colab_link": true
    },
    "kernelspec": {
      "name": "python3",
      "display_name": "Python 3"
    },
    "language_info": {
      "name": "python"
    }
  },
  "cells": [
    {
      "cell_type": "markdown",
      "metadata": {
        "id": "view-in-github",
        "colab_type": "text"
      },
      "source": [
        "<a href=\"https://colab.research.google.com/github/julianojunio/BlueTurma2B/blob/main/Aula04_Exercicios_ipynb_txt.ipynb\" target=\"_parent\"><img src=\"https://colab.research.google.com/assets/colab-badge.svg\" alt=\"Open In Colab\"/></a>"
      ]
    },
    {
      "cell_type": "markdown",
      "metadata": {
        "id": "DptQTkwqN7v9"
      },
      "source": [
        "# Exercícios de Aquecimento\n",
        "\n",
        "## Exercício 01\n",
        "Elabore um programa que imprima na tela a seguinte frase `Olá Mundo! Esse é o meu primeiro programa`"
      ]
    },
    {
      "cell_type": "code",
      "metadata": {
        "id": "fu-Hvxg7OT64",
        "colab": {
          "base_uri": "https://localhost:8080/"
        },
        "outputId": "23ffd4ce-c802-44c6-b8e5-83897209e0eb"
      },
      "source": [
        "print('Olá Mundo! Esse é o meu primeiro programa')"
      ],
      "execution_count": null,
      "outputs": [
        {
          "output_type": "stream",
          "text": [
            "Olá Mundo! Esse é o meu primeiro programa\n"
          ],
          "name": "stdout"
        }
      ]
    },
    {
      "cell_type": "markdown",
      "metadata": {
        "id": "HYnPLbl2OfuE"
      },
      "source": [
        "## Exercício 02\n",
        "Elabore um programa que escreve seu nome completo na primeira linha, seu endereço na segunda e o CEP e telefone na terceira.  \n",
        "\n",
        "**Exemplo:**\n",
        "```\n",
        "Nome: Bruno Fabri\n",
        "Endereço: Rua ABC\n",
        "CEP: 002220-010\n",
        "```"
      ]
    },
    {
      "cell_type": "code",
      "metadata": {
        "id": "sUrmuOzbO5Cd",
        "colab": {
          "base_uri": "https://localhost:8080/"
        },
        "outputId": "7abeb746-2321-4c0c-c9ff-f207244c2085"
      },
      "source": [
        "print('juliano\\nRua ABC\\nCEP 002315-1\\nTEL34510896')\n"
      ],
      "execution_count": null,
      "outputs": [
        {
          "output_type": "stream",
          "text": [
            "juliano\n",
            "Rua ABC\n",
            "CEP 002315-1\n",
            "TEL34510896\n"
          ],
          "name": "stdout"
        }
      ]
    },
    {
      "cell_type": "markdown",
      "metadata": {
        "id": "5XVY0cvwP1WX"
      },
      "source": [
        "## Exercício 03\n",
        "Elabore um programa que recebe o nome de uma pessoa do terminal e mostra a seguinte mensagem: `Olá {nome}! Seja bem vindo ao fantástico mundo da programação`"
      ]
    },
    {
      "cell_type": "code",
      "metadata": {
        "id": "VDfwe6OSQM0M",
        "colab": {
          "base_uri": "https://localhost:8080/"
        },
        "outputId": "e7678e75-cb13-42e8-d8f6-2482f234b3f8"
      },
      "source": [
        "nome = input('Digite seu Nome ')\n",
        "\n",
        "numero = 10\n",
        "print('Ola', nome,'! Seja bem vindo ao fantástico mundo da programação')\n",
        "print('Ola', nome + '! Seja bem vindo ao fantástico mundo da programação')\n",
        "print('ola {}! Seja bem vindo ao fantástico mundo da programação. e numero {}'.format(nome, 10))\n",
        "print('ola {}! Seja bem vindo ao fantástico mundo da programação'.replace('{}', nome))\n",
        "print(f'ola {nome}! Seja bem vindo ao fantástico mundo da programação')"
      ],
      "execution_count": null,
      "outputs": [
        {
          "output_type": "stream",
          "text": [
            "Digite seu Nome juliano\n",
            "Ola juliano ! Seja bem vindo ao fantástico mundo da programação\n",
            "Ola juliano! Seja bem vindo ao fantástico mundo da programação\n",
            "ola juliano! Seja bem vindo ao fantástico mundo da programação. e numero 10\n",
            "ola juliano! Seja bem vindo ao fantástico mundo da programação\n",
            "ola juliano! Seja bem vindo ao fantástico mundo da programação\n"
          ],
          "name": "stdout"
        }
      ]
    },
    {
      "cell_type": "markdown",
      "metadata": {
        "id": "1Nb29agVQc3k"
      },
      "source": [
        "## Exercício 04\n",
        "Elabore um programa que recebe dois valores inteiros e mostra a soma desses valores\n",
        "\n",
        "**Exemplo:**\n",
        "\n",
        "```\n",
        "Primeiro Valor = 2\n",
        "Segundo Valor = 3\n",
        "Soma = 5\n",
        "```"
      ]
    },
    {
      "cell_type": "code",
      "metadata": {
        "id": "a6_BwVwRROmH",
        "colab": {
          "base_uri": "https://localhost:8080/"
        },
        "outputId": "b60357b6-57eb-456e-c123-e0eca4fd9c3c"
      },
      "source": [
        "num1 = int(input('Digite o primeio valor'))\n",
        "num2 = int(input('Digite o segundo valor'))\n",
        "soma = num1 + num2\n",
        "print('soma =',soma)\n",
        "print('soma =', num1 +num2)\n"
      ],
      "execution_count": null,
      "outputs": [
        {
          "output_type": "stream",
          "text": [
            "Digite o primeio valor12\n",
            "Digite o segundo valor12\n",
            "soma = 24\n",
            "soma = 24\n"
          ],
          "name": "stdout"
        }
      ]
    },
    {
      "cell_type": "markdown",
      "metadata": {
        "id": "4HQxR3FTTbSr"
      },
      "source": [
        "## Exercício 05\n",
        "Elabore um programa que recebe dois valores inteiros e mostra se o primeiro valor é maior ou igual ao segundo valor\n",
        "\n",
        "**Exemplo:**\n",
        "```\n",
        "Primeiro Valor = 3\n",
        "Segundo Valor = 2\n",
        "Resultado = True\n",
        "```"
      ]
    },
    {
      "cell_type": "code",
      "metadata": {
        "id": "OXISQASdTeSW",
        "colab": {
          "base_uri": "https://localhost:8080/"
        },
        "outputId": "6f5acd2f-3a67-4bd2-9c1b-e1c80b80be1a"
      },
      "source": [
        "n1 = int(input('Digite o primeio valor'))\n",
        "n2 = int(input('Digite o segundo valor'))\n",
        "print(n1 >=n2)\n",
        "print(n1 >n2)\n",
        "print(n1 !=n2)\n",
        "print(n1 ==n2)"
      ],
      "execution_count": null,
      "outputs": [
        {
          "output_type": "stream",
          "text": [
            "Digite o primeio valor12\n",
            "Digite o segundo valor3\n",
            "True\n",
            "True\n",
            "True\n",
            "False\n"
          ],
          "name": "stdout"
        }
      ]
    },
    {
      "cell_type": "markdown",
      "metadata": {
        "id": "Gn8rHPn3UCnc"
      },
      "source": [
        "## Exercício 06\n",
        "Elabore um programa que recebe o seu nome, endereço e hobby e mostra cada uma das informações da seguinte forma:\n",
        "- Nome -> Letra maiúscula\n",
        "- Endereço -> Letra minúscula\n",
        "- Hobby -> Primeira letra maiúscula\n",
        "\n",
        "**Exemplo Entrada:**\n",
        "```\n",
        "Nome: bruno fabri\n",
        "Endereço: Rua ABC\n",
        "Hobby: jogar cs\n",
        "```\n",
        "\n",
        "**Exemplo Saída:**\n",
        "```\n",
        "Nome: BRUNO FABRI\n",
        "Endereço: rua abc\n",
        "Hobby: Jogar cs\n",
        "```"
      ]
    },
    {
      "cell_type": "code",
      "metadata": {
        "id": "ZIj-PGVZVVP6",
        "colab": {
          "base_uri": "https://localhost:8080/"
        },
        "outputId": "b5e5e2b2-8d0b-4fec-e241-6cb600227c10"
      },
      "source": [
        "nome = input('Digete seu nome')\n",
        "endereco =input('Digete seu endereço')\n",
        "hobby = input('Digete seu hobby')\n",
        "print(nome.upper())\n",
        "print(nome.lower())\n",
        "print(nome.title())\n",
        "print(nome.capitalize())"
      ],
      "execution_count": null,
      "outputs": [
        {
          "output_type": "stream",
          "text": [
            "Digete seu nomejulio\n",
            "Digete seu endereçobnm\n",
            "Digete seu hobbykj\n",
            "JULIO\n",
            "julio\n",
            "Julio\n",
            "Julio\n"
          ],
          "name": "stdout"
        }
      ]
    },
    {
      "cell_type": "markdown",
      "metadata": {
        "id": "wlvmEAPQNrcL"
      },
      "source": [
        "# Mini Projetos"
      ]
    },
    {
      "cell_type": "markdown",
      "metadata": {
        "id": "W8zwueNBKh4B"
      },
      "source": [
        "## Mini Projeto 01 - Conversor de Moeda\n",
        "Vamos construir um programa que irá converter moedas do real para o dólar e do dólar para o real. Vamos considerar que `$ 1,00 = R$ 5,75`\n",
        "\n",
        "### Parte 1\n",
        "Faça o conversor de moeda receber o valor em real e mostrar o valor convertido para dólar no formato `$ XXXX.XX`\n",
        "\n",
        "**Exemplo:**\n",
        "\n",
        "```\n",
        "Valor em R$ = 1000\n",
        "Valor em $ = $ 173.91\n",
        "```\n",
        "\n",
        "### Parte 2\n",
        "Altere o conversor de moedas para receber o valor em dólar, converter para real e mostrar o resultado no formato `R$ XXXX.XX`\n",
        "\n",
        "**Exemplo:**\n",
        "```\n",
        "Valor em $ = 1000\n",
        "Valor em R$ = R$ 5750.00\n",
        "```"
      ]
    },
    {
      "cell_type": "code",
      "metadata": {
        "id": "mRQ9fpIgMp5Z",
        "colab": {
          "base_uri": "https://localhost:8080/"
        },
        "outputId": "7a4fec03-9c05-4134-bd34-dd63c73c7c4d"
      },
      "source": [
        "real = float(input('Digite o valor em Reais: '))\n",
        "Dolar = real*5.75\n",
        "\n",
        "print('R$ {} real convertido para odolar é US$ {:.2f}'.format(real,Dolar))"
      ],
      "execution_count": 7,
      "outputs": [
        {
          "output_type": "stream",
          "text": [
            "Digite o valor em Reais: 1\n",
            "R$ 1.0 real convertido para odolar é US$ 5.75\n"
          ],
          "name": "stdout"
        }
      ]
    },
    {
      "cell_type": "markdown",
      "metadata": {
        "id": "GUEwRE1KXfg8"
      },
      "source": [
        ""
      ]
    },
    {
      "cell_type": "code",
      "metadata": {
        "colab": {
          "base_uri": "https://localhost:8080/"
        },
        "id": "cOKXUgKFUoY5",
        "outputId": "f612ae67-b530-4d99-b885-afaa48f9fcbd"
      },
      "source": [
        "dolar = float(input('digite'))\n",
        "real = dolar*0.19\n",
        "print('us${} Dólar convertido para o Real é R$ {:.2f}'.format(dolar,real))"
      ],
      "execution_count": 8,
      "outputs": [
        {
          "output_type": "stream",
          "text": [
            "digite1\n",
            "us$1.0 Dólar convertido para o Real é R$ 0.19\n"
          ],
          "name": "stdout"
        }
      ]
    },
    {
      "cell_type": "markdown",
      "metadata": {
        "id": "0NmAiF2DV_ju"
      },
      "source": [
        "## Mini Projeto 02 - Calculadora de aumento de aluguel\n",
        "Vamos construir um programa que irá calcular o aumento anual do seu aluguel em duas partes:\n",
        "\n",
        "### Parte 1\n",
        "A sua calculadora vai receber o `valor do aluguel` e calcular o aumento baseado no `IGPM de 31%`. A calculadora deve apresentar o aluguel reajustado no formato `R$ XXXX.XX`\n",
        "\n",
        "**Exemplo:**\n",
        "```\n",
        "Valor do aluguel = 1000\n",
        "Valor do aluguel reajustado = R$ 1310,00\n",
        "```\n",
        "\n",
        "### Parte 2\n",
        "Agora, altere sua calculadora para receber além do `valor do aluguel`, o percentual do reajuste no formato `XX%`.  \n",
        "\n",
        "**Dica:** Descubra uma forma de transformar o percentual recebido em um número para efetuar o cálculo.\n",
        "\n",
        "**Exemplo:**\n",
        "```\n",
        "Valor do aluguel = 1000\n",
        "Percentual do reajuste = 31%\n",
        "Valor do aluguel reajustado = R% 1310,00\n",
        "```"
      ]
    },
    {
      "cell_type": "code",
      "metadata": {
        "id": "0eHzSCyaGkYJ",
        "colab": {
          "base_uri": "https://localhost:8080/"
        },
        "outputId": "b0c0d998-de54-498c-de83-3c4960e6a811"
      },
      "source": [
        "aluguel = float(input(' digite o valor do aluguel R$'))\n",
        "aluguelRe = aluguel * 31 / 100\n",
        "aluguelRe1 = aluguel + aluguelRe\n",
        "print('''\n",
        "valor do aluguel r$:{:.2} reias\n",
        "valor do aluguel reajustado r$:{:.2} reias\n",
        "'''.format(aluguel,aluguelRe,aluguelRe1))"
      ],
      "execution_count": null,
      "outputs": [
        {
          "output_type": "stream",
          "text": [
            " digite o valo r$1000\n",
            "\n",
            "valor do aluguel r$:1e+03 reias\n",
            "valor do aluguel reajustado r$:3.1e+02 reias\n",
            "\n"
          ],
          "name": "stdout"
        }
      ]
    },
    {
      "cell_type": "code",
      "metadata": {
        "id": "69s0xeRAZqvP"
      },
      "source": [
        "aluguel = float(input(' digite o valor %'))\n",
        "aluguelRe = aluguel * 31 / 100\n",
        "aluguelRe1 = aluguel + aluguelRe"
      ],
      "execution_count": null,
      "outputs": []
    },
    {
      "cell_type": "markdown",
      "metadata": {
        "id": "xN88sUuMOG46"
      },
      "source": [
        "## Mini Projeto 03 - Calculadora de dano\n",
        "Vamos implementar a calculadora de dano de RPG!!\n",
        "\n",
        "### Parte 1\n",
        "O programa vai receber a `vida e um monstro (entre 10 e 50)` e o `valor do ataque do jogador por turno (entre 5 e 10)`\n",
        "\n",
        "Baseado nos valores, exiba a quantidade de turnos que o jogador irá demorar para conseguir derrotar o monstro.\n",
        "\n",
        "**Exemplo:**\n",
        "```\n",
        "Vida de um monstro (entre 10 e 50): 26\n",
        "Valor do ataque do jogador por turno (entre 5 e 10): 5\n",
        "Resultado: O jogador irá precisar de 6 turnos para derrotar o monstro.\n",
        "```\n",
        "\n",
        "### Parte 2\n",
        "Altere o programa para ao invés de receber a vida do monstro, gerar aleatoriamente um valor entre 10 e 50."
      ]
    },
    {
      "cell_type": "code",
      "metadata": {
        "id": "Mrpz9UomQH2P"
      },
      "source": [
        "\n"
      ],
      "execution_count": null,
      "outputs": []
    },
    {
      "cell_type": "code",
      "metadata": {
        "colab": {
          "base_uri": "https://localhost:8080/"
        },
        "id": "1tpU9USrX3jN",
        "outputId": "692e987e-5066-4cdb-8d5e-7f339be054fc"
      },
      "source": [
        "vidaMostro = 0\n",
        "vlrAtaque = 0\n",
        "while vidaMostro < 10 or vidaMostro >50:\n",
        "  vidaMostro = int(input('informa a vida do monstro(entre 10 e 50'))\n",
        "while vlrAtaque < 5 or vlrAtaque >10:\n",
        "  vlrAtaque = int(input('informa o valor de ataque(entre 5 e 10'))\n",
        "qtdTurnos = round(vidaMostro/vlrAtaque+ 0.5)\n",
        "print(qtdTurnos)\n",
        "print(f'o jogador ira precisar de {qtdTurnos} turnos para derrotar o monstro')\n"
      ],
      "execution_count": null,
      "outputs": [
        {
          "output_type": "stream",
          "text": [
            "informa a vida do monstro(entre 10 e 5020\n",
            "informa o valor de ataque(entre 5 e 108\n",
            "3\n",
            "o jogador ira precisar de 3 turnos para derrotar o monstro\n"
          ],
          "name": "stdout"
        }
      ]
    },
    {
      "cell_type": "code",
      "metadata": {
        "id": "U_eanpTphasP"
      },
      "source": [
        ""
      ],
      "execution_count": null,
      "outputs": []
    }
  ]
}